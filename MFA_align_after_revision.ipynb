{
  "nbformat": 4,
  "nbformat_minor": 0,
  "metadata": {
    "colab": {
      "provenance": []
    },
    "kernelspec": {
      "name": "python3",
      "display_name": "Python 3"
    },
    "language_info": {
      "name": "python"
    }
  },
  "cells": [
    {
      "cell_type": "markdown",
      "source": [
        "### 按照官网的命令安装MFA"
      ],
      "metadata": {
        "id": "SmVfcagojla_"
      }
    },
    {
      "cell_type": "code",
      "source": [
        "!git clone https://github.com/AlexandaJerry/PPASR.git\n",
        "%cd /content/PPASR"
      ],
      "metadata": {
        "id": "XmeqbX201OeN"
      },
      "execution_count": null,
      "outputs": []
    },
    {
      "cell_type": "code",
      "source": [
        "wav_dir = 'inputs'#@param {type:\"string\"}\n",
        "wav_path = '/content/PPASR/' + wav_dir\n",
        "textgrid_dir = 'outputs'#@param {type:\"string\"}\n",
        "textgrid_path = '/content/PPASR/' + textgrid_dir\n",
        "acoustic_model = '/content/PPASR/mandarin.zip'\n",
        "dictionary = '/content/PPASR/mandarin_pinyin.txt'\n",
        "%mkdir $wav_dir\n",
        "%mkdir $textgrid_dir"
      ],
      "metadata": {
        "id": "GCrQ3U3U1QoB",
        "outputId": "49df6a44-68d8-4ac6-f514-62d9016fe5ed",
        "colab": {
          "base_uri": "https://localhost:8080/"
        }
      },
      "execution_count": 18,
      "outputs": [
        {
          "output_type": "stream",
          "name": "stdout",
          "text": [
            "mkdir: cannot create directory ‘inputs’: File exists\n",
            "mkdir: cannot create directory ‘outputs’: File exists\n"
          ]
        }
      ]
    },
    {
      "cell_type": "code",
      "source": [
        "from google.colab import drive\n",
        "drive.mount('/content/drive')"
      ],
      "metadata": {
        "id": "3kBKrihT2C9v"
      },
      "execution_count": null,
      "outputs": []
    },
    {
      "cell_type": "code",
      "source": [
        "file_name = 'data.zip'#@param {type:\"string\"}\n",
        "file_path = \"/content/drive/MyDrive/\" + file_name\n",
        "!unzip -j $file_path \"*/*.wav\" -d $wav_path\n",
        "!unzip -j $file_path \"*/*.txt\" -d $wav_path"
      ],
      "metadata": {
        "id": "Mt2RFeTH2GCw"
      },
      "execution_count": null,
      "outputs": []
    },
    {
      "cell_type": "markdown",
      "source": [
        "### 安装好后查看MFA的版本\n",
        "#### 安装无误会显示2.0.6"
      ],
      "metadata": {
        "id": "X-Qa5GKkkAHB"
      }
    },
    {
      "cell_type": "code",
      "source": [
        "!pip install -q condacolab\n",
        "import condacolab\n",
        "condacolab.install_miniconda()\n",
        "!conda create -n aligner -c conda-forge montreal-forced-aligner"
      ],
      "metadata": {
        "id": "KpHVa0wi6Ysx"
      },
      "execution_count": null,
      "outputs": []
    },
    {
      "cell_type": "code",
      "source": [
        "!source activate aligner; \\\n",
        "mfa version"
      ],
      "metadata": {
        "colab": {
          "base_uri": "https://localhost:8080/"
        },
        "id": "zgy8sSS-j-AY",
        "outputId": "47f7b484-1d12-4b95-bc3a-e31375683eb4"
      },
      "execution_count": 27,
      "outputs": [
        {
          "output_type": "stream",
          "name": "stdout",
          "text": [
            "/usr/local/envs/aligner/lib/python3.10/site-packages/Bio/pairwise2.py:278: BiopythonDeprecationWarning: Bio.pairwise2 has been deprecated, and we intend to remove it in a future release of Biopython. As an alternative, please consider using Bio.Align.PairwiseAligner as a replacement, and contact the Biopython developers if you still need the Bio.pairwise2 module.\n",
            "  warnings.warn(\n",
            "2.0.6\n",
            "\u001b[0m"
          ]
        }
      ]
    },
    {
      "cell_type": "markdown",
      "source": [
        "\n",
        "\n",
        "---\n",
        "\n"
      ],
      "metadata": {
        "id": "r_2NeWQ2rYYO"
      }
    },
    {
      "cell_type": "markdown",
      "source": [
        "## 短音频对齐示范\n",
        "\n",
        "---\n",
        "\n",
        "\n",
        "### mfa align命令必须输入的参数包括四个路径：\n",
        "#### 01音频和转写的路径 02词典的路径 03声学模型的路径 04输出textgrid的路径\n",
        "#### 我们的词典是拼音词典mandarin_pinyin.txt\n",
        "#### 我们的声学模型路径是mandarin.zip\n",
        "\n",
        "---\n",
        "\n",
        "\n",
        "### mfa align命令可以自由选择输入的参数包括：\n",
        "#### --clean → 清除上次对齐时保留的缓存文件\n",
        "#### -s number → 文件名中的前多少个字母为发音人的ID\n",
        "#### 例如前两位文件名是发音人的ID，我们会用-s 2进行发音人的区分\n",
        "#### --beam number → 对齐搜索的精度默认数字为10\n",
        "#### 正常情况不需要修改beam，如果无法对齐则需要增大beam\n",
        "#### --overwrite → 覆盖上次对齐好的Textgrid\n",
        "\n",
        "---\n",
        "\n",
        "### 示范命令：\n",
        "!mfa align --clean -s 2 wav_txt_dir dictionary_path acoustic_model_dir textgrids_dir --beam 10 --overwrite\n"
      ],
      "metadata": {
        "id": "Y8R5xDgqk2n3"
      }
    },
    {
      "cell_type": "code",
      "source": [
        "# Slicer arguments\n",
        "speaker_id = 6 #@param {type:\"number\"}\n",
        "beam_number = 100 #@param {type:\"number\"}\n",
        "\n",
        "!source activate aligner; \\\n",
        "mfa align --clean -s $speaker_id $wav_dir $dictionary $acoustic_model $textgrid_dir --beam $beam_number --overwrite"
      ],
      "metadata": {
        "colab": {
          "base_uri": "https://localhost:8080/"
        },
        "id": "emuS0W596NO0",
        "outputId": "2ff326b2-d2a8-4285-f49b-b0718439f1ee"
      },
      "execution_count": 32,
      "outputs": [
        {
          "output_type": "stream",
          "name": "stdout",
          "text": [
            "/usr/local/envs/aligner/lib/python3.10/site-packages/Bio/pairwise2.py:278: BiopythonDeprecationWarning: Bio.pairwise2 has been deprecated, and we intend to remove it in a future release of Biopython. As an alternative, please consider using Bio.Align.PairwiseAligner as a replacement, and contact the Biopython developers if you still need the Bio.pairwise2 module.\n",
            "  warnings.warn(\n",
            "\u001b[32mINFO\u001b[0m - Setting up corpus information...\n",
            "\u001b[32mINFO\u001b[0m - Loading corpus from source files...\n",
            "100% 87/87 [00:01<00:00, 81.62it/s]\n",
            "\u001b[32mINFO\u001b[0m - Found 4 speakers across 87 files, average number of utterances per speaker: 21.75\n",
            "\u001b[32mINFO\u001b[0m - Initializing multiprocessing jobs...\n",
            "\u001b[32mINFO\u001b[0m - Creating corpus split for feature generation...\n",
            "\u001b[32mINFO\u001b[0m - Generating base features (mfcc)...\n",
            "\u001b[32mINFO\u001b[0m - Generating MFCCs...\n",
            " 92% 80/87 [00:05<00:00, 13.34it/s]\n",
            "\u001b[32mINFO\u001b[0m - Calculating CMVN...\n",
            "\u001b[32mINFO\u001b[0m - Creating corpus split with features...\n",
            "\u001b[32mINFO\u001b[0m - Compiling training graphs...\n",
            "100% 87/87 [00:01<00:00, 63.32it/s] \n",
            "\u001b[32mINFO\u001b[0m - Performing first-pass alignment...\n",
            "\u001b[32mINFO\u001b[0m - Generating alignments...\n",
            "100% 87/87 [00:35<00:00,  2.46it/s]\n",
            "\u001b[32mINFO\u001b[0m - Calculating fMLLR for speaker adaptation...\n",
            "100% 4/4 [00:02<00:00,  1.84it/s]\n",
            "\u001b[32mINFO\u001b[0m - Performing second-pass alignment...\n",
            "\u001b[32mINFO\u001b[0m - Generating alignments...\n",
            "100% 87/87 [00:18<00:00,  4.72it/s]\n",
            "\u001b[32mINFO\u001b[0m - Exporting TextGrids to outputs...\n",
            "\u001b[32mINFO\u001b[0m - Collecting phone and word alignments from alignment lattices...\n",
            "100% 87/87 [00:01<00:00, 55.85it/s] \n",
            "100% 87/87 [00:02<00:00, 42.58it/s]\n",
            "\u001b[32mINFO\u001b[0m - Finished exporting TextGrids to outputs!\n",
            "\u001b[32mINFO\u001b[0m - Done! Everything took 73.36956667900085 seconds\n",
            "\u001b[0m"
          ]
        }
      ]
    },
    {
      "cell_type": "code",
      "source": [
        "from google.colab import files\n",
        "zip_name_you_wish = 'textgrid.zip'#@param {type:\"string\"}\n",
        "zip_path = '/content/PPASR/' + zip_name_you_wish\n",
        "!zip -j $zip_path $textgrid_dir/*\n",
        "files.download(zip_path)"
      ],
      "metadata": {
        "colab": {
          "base_uri": "https://localhost:8080/",
          "height": 1000
        },
        "id": "cgU5FZFFpa4B",
        "outputId": "52058d94-ac81-4e7f-bb56-eb97c5396c3e"
      },
      "execution_count": 33,
      "outputs": [
        {
          "output_type": "stream",
          "name": "stdout",
          "text": [
            "updating: aam0511_slice_0000.TextGrid (deflated 87%)\n",
            "updating: aam0511_slice_0001.TextGrid (deflated 87%)\n",
            "updating: aam0511_slice_0002.TextGrid (deflated 86%)\n",
            "updating: aam0511_slice_0003.TextGrid (deflated 86%)\n",
            "updating: aam0511_slice_0004.TextGrid (deflated 87%)\n",
            "updating: aam0511_slice_0005.TextGrid (deflated 87%)\n",
            "updating: aam0511_slice_0006.TextGrid (deflated 87%)\n",
            "updating: aam0511_slice_0007.TextGrid (deflated 87%)\n",
            "updating: aam0511_slice_0008.TextGrid (deflated 87%)\n",
            "updating: aam0511_slice_0009.TextGrid (deflated 88%)\n",
            "updating: aam0511_slice_0010.TextGrid (deflated 87%)\n",
            "updating: aam0511_slice_0011.TextGrid (deflated 88%)\n",
            "updating: aam0511_slice_0012.TextGrid (deflated 88%)\n",
            "updating: aam0511_slice_0013.TextGrid (deflated 88%)\n",
            "updating: aam0511_slice_0014.TextGrid (deflated 85%)\n",
            "updating: aam0511_slice_0015.TextGrid (deflated 86%)\n",
            "updating: aam0511_slice_0016.TextGrid (deflated 87%)\n",
            "updating: aam0511_slice_0017.TextGrid (deflated 88%)\n",
            "updating: aam0511_slice_0018.TextGrid (deflated 86%)\n",
            "updating: aam0511_slice_0019.TextGrid (deflated 88%)\n",
            "updating: aam0511_slice_0020.TextGrid (deflated 87%)\n",
            "updating: aam0511_slice_0021.TextGrid (deflated 86%)\n",
            "updating: aam0511_slice_0022.TextGrid (deflated 86%)\n",
            "updating: aam0511_slice_0023.TextGrid (deflated 87%)\n",
            "updating: aam0511_slice_0024.TextGrid (deflated 87%)\n",
            "updating: aam0511_slice_0025.TextGrid (deflated 88%)\n",
            "updating: aam0511_slice_0026.TextGrid (deflated 84%)\n",
            "updating: aam0511_slice_0027.TextGrid (deflated 88%)\n",
            "updating: aam0511_slice_0028.TextGrid (deflated 86%)\n",
            "updating: aam0511_slice_0029.TextGrid (deflated 86%)\n",
            "updating: aam0511_slice_0030.TextGrid (deflated 86%)\n",
            "updating: aam0511_slice_0031.TextGrid (deflated 85%)\n",
            "updating: aam0511_slice_0032.TextGrid (deflated 87%)\n",
            "updating: aam0511_slice_0033.TextGrid (deflated 87%)\n",
            "updating: aam0511_slice_0034.TextGrid (deflated 87%)\n",
            "updating: aam0511_slice_0035.TextGrid (deflated 87%)\n",
            "updating: alv0805_slice_0002.TextGrid (deflated 87%)\n",
            "updating: alv0805_slice_0003.TextGrid (deflated 88%)\n",
            "updating: alv0805_slice_0004.TextGrid (deflated 87%)\n",
            "updating: alv0805_slice_0006.TextGrid (deflated 87%)\n",
            "updating: alv0805_slice_0007.TextGrid (deflated 88%)\n",
            "updating: alv0805_slice_0010.TextGrid (deflated 88%)\n",
            "updating: alv0805_slice_0011.TextGrid (deflated 88%)\n",
            "updating: alv0805_slice_0012.TextGrid (deflated 88%)\n",
            "updating: alv0805_slice_0013.TextGrid (deflated 87%)\n",
            "updating: alv0805_slice_0014.TextGrid (deflated 87%)\n",
            "updating: alv0805_slice_0015.TextGrid (deflated 89%)\n",
            "updating: alv0805_slice_0016.TextGrid (deflated 88%)\n",
            "updating: alv0805_slice_0017.TextGrid (deflated 88%)\n",
            "updating: alv0805_slice_0018.TextGrid (deflated 88%)\n",
            "updating: alv0805_slice_0020.TextGrid (deflated 86%)\n",
            "updating: hp0317_slice_0000.TextGrid (deflated 88%)\n",
            "updating: hp0317_slice_0001.TextGrid (deflated 88%)\n",
            "updating: hp0317_slice_0002.TextGrid (deflated 88%)\n",
            "updating: hp0317_slice_0003.TextGrid (deflated 87%)\n",
            "updating: hp0317_slice_0004.TextGrid (deflated 88%)\n",
            "updating: hp0317_slice_0005.TextGrid (deflated 88%)\n",
            "updating: hp0317_slice_0006.TextGrid (deflated 88%)\n",
            "updating: hp0317_slice_0007.TextGrid (deflated 88%)\n",
            "updating: hp0317_slice_0008.TextGrid (deflated 88%)\n",
            "updating: hp0317_slice_0009.TextGrid (deflated 88%)\n",
            "updating: hp0317_slice_0010.TextGrid (deflated 88%)\n",
            "updating: hp0317_slice_0011.TextGrid (deflated 88%)\n",
            "updating: hp0317_slice_0012.TextGrid (deflated 89%)\n",
            "updating: hp0317_slice_0013.TextGrid (deflated 88%)\n",
            "updating: lj1216_slice_0000.TextGrid (deflated 87%)\n",
            "updating: lj1216_slice_0001.TextGrid (deflated 88%)\n",
            "updating: lj1216_slice_0002.TextGrid (deflated 88%)\n",
            "updating: lj1216_slice_0003.TextGrid (deflated 88%)\n",
            "updating: lj1216_slice_0004.TextGrid (deflated 88%)\n",
            "updating: lj1216_slice_0005.TextGrid (deflated 87%)\n",
            "updating: lj1216_slice_0006.TextGrid (deflated 87%)\n",
            "updating: lj1216_slice_0007.TextGrid (deflated 88%)\n",
            "updating: lj1216_slice_0008.TextGrid (deflated 88%)\n",
            "updating: lj1216_slice_0009.TextGrid (deflated 88%)\n",
            "updating: lj1216_slice_0010.TextGrid (deflated 87%)\n",
            "updating: lj1216_slice_0011.TextGrid (deflated 86%)\n",
            "updating: lj1216_slice_0012.TextGrid (deflated 87%)\n",
            "updating: lj1216_slice_0013.TextGrid (deflated 88%)\n",
            "updating: lj1216_slice_0014.TextGrid (deflated 87%)\n",
            "updating: lj1216_slice_0015.TextGrid (deflated 85%)\n",
            "  adding: alv0805_slice_0000.TextGrid (deflated 88%)\n",
            "  adding: alv0805_slice_0001.TextGrid (deflated 87%)\n",
            "  adding: alv0805_slice_0005.TextGrid (deflated 88%)\n",
            "  adding: alv0805_slice_0008.TextGrid (deflated 88%)\n",
            "  adding: alv0805_slice_0009.TextGrid (deflated 88%)\n",
            "  adding: alv0805_slice_0019.TextGrid (deflated 88%)\n"
          ]
        },
        {
          "output_type": "display_data",
          "data": {
            "text/plain": [
              "<IPython.core.display.Javascript object>"
            ],
            "application/javascript": [
              "\n",
              "    async function download(id, filename, size) {\n",
              "      if (!google.colab.kernel.accessAllowed) {\n",
              "        return;\n",
              "      }\n",
              "      const div = document.createElement('div');\n",
              "      const label = document.createElement('label');\n",
              "      label.textContent = `Downloading \"${filename}\": `;\n",
              "      div.appendChild(label);\n",
              "      const progress = document.createElement('progress');\n",
              "      progress.max = size;\n",
              "      div.appendChild(progress);\n",
              "      document.body.appendChild(div);\n",
              "\n",
              "      const buffers = [];\n",
              "      let downloaded = 0;\n",
              "\n",
              "      const channel = await google.colab.kernel.comms.open(id);\n",
              "      // Send a message to notify the kernel that we're ready.\n",
              "      channel.send({})\n",
              "\n",
              "      for await (const message of channel.messages) {\n",
              "        // Send a message to notify the kernel that we're ready.\n",
              "        channel.send({})\n",
              "        if (message.buffers) {\n",
              "          for (const buffer of message.buffers) {\n",
              "            buffers.push(buffer);\n",
              "            downloaded += buffer.byteLength;\n",
              "            progress.value = downloaded;\n",
              "          }\n",
              "        }\n",
              "      }\n",
              "      const blob = new Blob(buffers, {type: 'application/binary'});\n",
              "      const a = document.createElement('a');\n",
              "      a.href = window.URL.createObjectURL(blob);\n",
              "      a.download = filename;\n",
              "      div.appendChild(a);\n",
              "      a.click();\n",
              "      div.remove();\n",
              "    }\n",
              "  "
            ]
          },
          "metadata": {}
        },
        {
          "output_type": "display_data",
          "data": {
            "text/plain": [
              "<IPython.core.display.Javascript object>"
            ],
            "application/javascript": [
              "download(\"download_0a59e00c-a21d-487c-9e43-124ac0ab14b7\", \"textgrid.zip\", 85906)"
            ]
          },
          "metadata": {}
        }
      ]
    }
  ]
}