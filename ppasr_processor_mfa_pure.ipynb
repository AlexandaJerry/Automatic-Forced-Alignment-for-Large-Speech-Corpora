{
  "cells": [
    {
      "cell_type": "markdown",
      "metadata": {
        "id": "EblwyDLicmnp"
      },
      "source": [
        "\n",
        "#### 点击上方菜单栏的“代码执行程序”，在“更改运行时类型”中选择硬件加速器为GPU\n",
        "#### 避免Colab断开连接：按Ctrl+Shift+I等待弹窗然后点击控制台，输入以下内容并回车：\n",
        "\n",
        "\n",
        "```\n",
        "function ConnectButton(){\n",
        "    console.log(\"Connect pushed\"); \n",
        "    document.querySelector(\"#top-toolbar > colab-connect-button\").shadowRoot.querySelector(\"#connect\").click()}\n",
        "setInterval(ConnectButton,60000);\n",
        "```\n",
        "\n"
      ]
    },
    {
      "cell_type": "markdown",
      "metadata": {
        "id": "zLh5p9y8ZxWB"
      },
      "source": [
        "### 01 安装需要的依赖和部署预训练模型"
      ]
    },
    {
      "cell_type": "code",
      "execution_count": null,
      "metadata": {
        "id": "Sf0YXv8Vcnu4",
        "vscode": {
          "languageId": "python"
        }
      },
      "outputs": [],
      "source": [
        "!python -m pip install paddlepaddle-gpu==2.4.1.post112 -f https://www.paddlepaddle.org.cn/whl/linux/mkl/avx/stable.html\n",
        "!python -m pip install ppasr\n",
        "!python -m pip install paddlespeech-ctcdecoders\n",
        "!pip install pypinyin\n",
        "!sudo apt-get install sox\n",
        "!git clone https://github.com/AlexandaJerry/PPASR.git\n",
        "%cd /content/PPASR\n",
        "!python setup.py install"
      ]
    },
    {
      "cell_type": "code",
      "execution_count": null,
      "metadata": {
        "id": "AYkU3kekaQps",
        "vscode": {
          "languageId": "python"
        }
      },
      "outputs": [],
      "source": [
        "!wget --load-cookies /tmp/cookies.txt \"https://docs.google.com/uc?export=download&confirm=$(wget --quiet --save-cookies /tmp/cookies.txt --keep-session-cookies --no-check-certificate 'https://docs.google.com/uc?export=download&id=1e7t3lOPj0PAgQHWVot0dRw8_NRoP27IN' -O- | sed -rn 's/.*confirm=([0-9A-Za-z_]+).*/\\1\\n/p')&id=1e7t3lOPj0PAgQHWVot0dRw8_NRoP27IN\" -O \"PPASR.zip\" && rm -rf /tmp/cookies.txt\n",
        "!unzip /content/PPASR/PPASR.zip -d /content\n",
        "!cp -RT /content/PPASR_V2-conformer_online-fbank-超大数据集/configs/ /content/PPASR/configs/\n",
        "!cp -RT /content/PPASR_V2-conformer_online-fbank-超大数据集/dataset/ /content/PPASR/dataset/\n",
        "!cp -RT /content/PPASR_V2-conformer_online-fbank-超大数据集/models/ /content/PPASR/models/\n",
        "!wget --load-cookies /tmp/cookies.txt \"https://docs.google.com/uc?export=download&confirm=$(wget --quiet --save-cookies /tmp/cookies.txt --keep-session-cookies --no-check-certificate 'https://docs.google.com/uc?export=download&id=1--Sy7fcquKBR8PNIVW-quDlSD1fCNcGk' -O- | sed -rn 's/.*confirm=([0-9A-Za-z_]+).*/\\1\\n/p')&id=1--Sy7fcquKBR8PNIVW-quDlSD1fCNcGk\" -O \"zh_giga.no_cna_cmn.prune01244.klm\" && rm -rf /tmp/cookies.txt\n",
        "!cp -r /content/PPASR/zh_giga.no_cna_cmn.prune01244.klm /content/PPASR/lm/\n",
        "!python export_model.py --resume_model=models/conformer_online_fbank/best_model/"
      ]
    },
    {
      "cell_type": "markdown",
      "metadata": {
        "id": "lDJIJKRc6a-8"
      },
      "source": [
        "\n",
        "\n",
        "---\n",
        "\n",
        "\n",
        "\n",
        "---\n",
        "\n"
      ]
    },
    {
      "cell_type": "markdown",
      "metadata": {
        "id": "I38--T_ic1BG"
      },
      "source": [
        "### 02 导入谷歌云盘中的音频压缩文件\n",
        "#### 谷歌云盘内音频压缩包的文件名填入wav_file"
      ]
    },
    {
      "cell_type": "code",
      "execution_count": null,
      "metadata": {
        "id": "7WI6gxEbQDwG",
        "vscode": {
          "languageId": "python"
        }
      },
      "outputs": [],
      "source": [
        "from google.colab import drive\n",
        "drive.mount('/content/drive')"
      ]
    },
    {
      "cell_type": "code",
      "execution_count": null,
      "metadata": {
        "id": "1w-FFH64hTPp",
        "vscode": {
          "languageId": "python"
        }
      },
      "outputs": [],
      "source": [
        "wav_file = 'samples.zip'#@param {type:\"string\"}\n",
        "wav_path = \"/content/drive/MyDrive/\" + wav_file\n",
        "!unzip -j $wav_path \"*/*.wav\" -d /content/PPASR/raw_wav"
      ]
    },
    {
      "cell_type": "markdown",
      "metadata": {
        "id": "8SZxtmgtlrOk"
      },
      "source": [
        "#### 降低音频采样率到16000赫兹 如果不想降低采样率可跳过不运行此框\n",
        "#### 采样率高低主要影响后续音频切片和识别的速度 时间充裕可不降采样率"
      ]
    },
    {
      "cell_type": "code",
      "execution_count": null,
      "metadata": {
        "id": "_ECPEf1SSYfX",
        "vscode": {
          "languageId": "python"
        }
      },
      "outputs": [],
      "source": [
        "%%bash\n",
        "###降低音频采样率到16000赫兹\n",
        "###如果不想降低采样率可不运行此框\n",
        "cd /content/PPASR/raw_wav\n",
        "\n",
        "for x in ./*.wav\n",
        "do \n",
        "  b=${x##*/}\n",
        "  sox $b -r 16000 tmp_$b\n",
        "  rm -rf $b\n",
        "  mv tmp_$b $b\n",
        "  echo \"成功降低$b的采样率到16000Hz\"\n",
        "done"
      ]
    },
    {
      "cell_type": "markdown",
      "metadata": {
        "id": "LJy5FZKIdERh"
      },
      "source": [
        "\n",
        "\n",
        "---\n",
        "\n",
        "\n",
        "\n",
        "---\n",
        "\n"
      ]
    },
    {
      "cell_type": "markdown",
      "metadata": {
        "id": "eREJBxCIdGYY"
      },
      "source": [
        "### 03 长音频自动切片为短音频\n",
        "#### db_threshold：低于多少分贝视为静音（单位：分贝）\n",
        "#### min_length: 每个短音频的最低切片时长（单位：毫秒）\n",
        "#### win_l_ win_s_: 多长的静音才会被切分（单位：毫秒）\n",
        "#### max_silence_kept：切分处保留的左右时长（单位：毫秒）"
      ]
    },
    {
      "cell_type": "code",
      "execution_count": null,
      "metadata": {
        "id": "wS4prYRLgPa5",
        "vscode": {
          "languageId": "python"
        }
      },
      "outputs": [],
      "source": [
        "import glob\n",
        "import os\n",
        "import shutil\n",
        "import wave\n",
        "\n",
        "import librosa\n",
        "import soundfile\n",
        "import tqdm\n",
        "\n",
        "def length(src: str):\n",
        "    if os.path.isfile(src) and src.endswith('.wav'):\n",
        "        with wave.open(src, 'r') as w:\n",
        "            return w.getnframes() / w.getframerate() / 3600\n",
        "    elif os.path.isdir(src):\n",
        "        total = 0\n",
        "        for ch in [os.path.join(src, c) for c in os.listdir(src)]:\n",
        "            total += length(ch)\n",
        "        return total\n",
        "    return 0\n",
        "\n",
        "\n",
        "print('Environment initialized successfully.')\n",
        "\n",
        "# Configuration for data paths\n",
        "raw_path = '/content/PPASR/raw_wav'  # Path to your raw, unsliced recordings\n",
        "\n",
        "########################################\n",
        "\n",
        "assert os.path.exists(raw_path) and os.path.isdir(raw_path), 'The chosen path does not exist or is not a directory.'\n",
        "print('Raw recording path:', raw_path)\n",
        "print()\n",
        "print('===== Recording List =====')\n",
        "raw_filelist = glob.glob(f'{raw_path}/*.wav', recursive=True)\n",
        "raw_length = length(raw_path)\n",
        "if len(raw_filelist) > 5:\n",
        "    print('\\n'.join(raw_filelist[:5] + [f'... ({len(raw_filelist) - 5} more)']))\n",
        "else:\n",
        "    print('\\n'.join(raw_filelist))\n",
        "print()\n",
        "print(f'Found {len(raw_filelist)} valid recordings with total length of {round(raw_length, 2)} hours.')\n",
        "\n",
        "sliced_path = '/content/PPASR/sliced_wav'  # Path to hold the sliced segments of your recordings\n",
        "\n",
        "# Slicer arguments\n",
        "db_threshold_ = -40. #@param {type:\"number\"}\n",
        "min_length_ = 8000 #@param {type:\"number\"}\n",
        "win_l_ = 800 #@param {type:\"number\"}\n",
        "win_s_ = 20 #@param {type:\"number\"}\n",
        "max_silence_kept_ = 500 #@param {type:\"number\"}\n",
        "\n",
        "# Number of threads (based on your CPU kernels)\n",
        "num_workers = 5\n",
        "\n",
        "########################################\n",
        "\n",
        "assert 'raw_path' in locals().keys(), 'Raw path of your recordings has not been specified.'\n",
        "assert not os.path.exists(sliced_path) or os.path.isdir(sliced_path), 'The chosen path is not a directory.'\n",
        "os.makedirs(sliced_path, exist_ok=True)\n",
        "print('Sliced recording path:', sliced_path)\n",
        "\n",
        "from slicer import Slicer\n",
        "from concurrent.futures import ThreadPoolExecutor, wait, ALL_COMPLETED\n",
        "\n",
        "def slice_one(in_audio):\n",
        "    audio, sr = librosa.load(in_audio, sr=None)\n",
        "    slicer = Slicer(\n",
        "        sr=sr,\n",
        "        db_threshold=db_threshold_,\n",
        "        min_length=min_length_,\n",
        "        win_l=win_l_,\n",
        "        win_s=win_s_,\n",
        "        max_silence_kept=max_silence_kept_\n",
        "    )\n",
        "    chunks = slicer.slice(audio)\n",
        "    for i, chunk in enumerate(chunks):\n",
        "        soundfile.write(os.path.join(sliced_path, f'%s_slice_%04d.wav' % (os.path.basename(in_audio).rsplit('.', maxsplit=1)[0], i)), chunk, sr)\n",
        "\n",
        "\n",
        "print('Slicing your recordings may take several minutes. Please wait.')\n",
        "thread_pool = ThreadPoolExecutor(max_workers=num_workers)\n",
        "tasks = []\n",
        "for file in raw_filelist:\n",
        "    tasks.append(thread_pool.submit(slice_one, file))\n",
        "wait(tasks, return_when=ALL_COMPLETED)\n",
        "print()\n",
        "print('===== Segment List =====')\n",
        "sliced_filelist = glob.glob(f'{sliced_path}/*.wav', recursive=True)\n",
        "sliced_length = length(sliced_path)\n",
        "if len(sliced_filelist) > 5:\n",
        "    print('\\n'.join(sliced_filelist[:5] + [f'... ({len(sliced_filelist) - 5} more)']))\n",
        "else:\n",
        "    print('\\n'.join(sliced_filelist))\n",
        "print()\n",
        "print(f'Sliced your recordings into {len(sliced_filelist)} segments with total length of {round(sliced_length, 2)} hours.')"
      ]
    },
    {
      "cell_type": "markdown",
      "metadata": {
        "id": "QLLBtmq2dh2q"
      },
      "source": [
        "\n",
        "\n",
        "---\n",
        "\n",
        "\n",
        "\n",
        "---\n",
        "\n"
      ]
    },
    {
      "cell_type": "markdown",
      "metadata": {
        "id": "pPSPhQtxdizC"
      },
      "source": [
        "### 04 切片后的短音频自动转写和转拼音"
      ]
    },
    {
      "cell_type": "code",
      "execution_count": null,
      "metadata": {
        "id": "HETW3PgZdIcv",
        "vscode": {
          "languageId": "python"
        }
      },
      "outputs": [],
      "source": [
        "!python infer_wav.py"
      ]
    },
    {
      "cell_type": "code",
      "execution_count": null,
      "metadata": {
        "id": "EezcQcTlYu6t",
        "vscode": {
          "languageId": "python"
        }
      },
      "outputs": [],
      "source": [
        "import os\n",
        "import sys\n",
        "import numpy as np\n",
        "from pypinyin import pinyin, lazy_pinyin, Style\n",
        "import re\n",
        "\n",
        "root_dir = \"/content/PPASR/sliced_wav\"\n",
        "pattern = re.compile(r'(.*)\\.txt$')\n",
        "r=\"[_.!+-=——,$%^,。?、~@#￥%……&*《》<>「」{}【】()（）/''\\n ]\"\n",
        "\n",
        "for root, dir, files in os.walk(root_dir):\n",
        "\tfor filename in files:\n",
        "\t\t#print(filename)\n",
        "\t\toutput = pattern.match(filename)\n",
        "\t\tif output is not None:\n",
        "\t\t\tprint(root, filename)\n",
        "\t\t\ttext_file = open(root+\"/\"+filename)\n",
        "\t\t\tline = text_file.read().strip()\n",
        "\t\t\tline = line.replace(\"，\", \"\")\n",
        "\t\t\tline = re.sub(r,\"\",line)\n",
        "\t\t\tpinyin =  lazy_pinyin(line, style=Style.TONE3, errors='default', strict=False, v_to_u=False, neutral_tone_with_five=True,tone_sandhi=True)\n",
        "\t\t\tpinyinline = ' '.join(pinyin)\n",
        "\t\t\tprint(line)\n",
        "\t\t\ttarget_text_file = open(root+\"/\"+output.group(1)+\".txt\", \"w\")\n",
        "\t\t\ttarget_text_file.write(pinyinline)\n",
        "\t\t\ttarget_text_file.close()"
      ]
    },
    {
      "cell_type": "code",
      "execution_count": null,
      "metadata": {
        "id": "qZCCk5FNtKSX",
        "vscode": {
          "languageId": "python"
        }
      },
      "outputs": [],
      "source": [
        "## 加载MFA普通话词典检测有无超出词典范围的词出现\n",
        "import tqdm\n",
        "dict_path = '/content/PPASR/mandarin_pinyin.txt'\n",
        "with open(dict_path, 'r', encoding='utf8') as f:\n",
        "    rules = [ln.strip().split('\\t') for ln in f.readlines()]\n",
        "dictionary = {}\n",
        "phoneme_set = set()\n",
        "for r in rules:\n",
        "    phonemes = r[1].split()\n",
        "    dictionary[r[0]] = phonemes\n",
        "    phoneme_set.update(phonemes)\n",
        "\n",
        "# Run checks\n",
        "check_failed = False\n",
        "covered = set()\n",
        "phoneme_map = {}\n",
        "for ph in sorted(phoneme_set):\n",
        "    phoneme_map[ph] = 0\n",
        "\n",
        "segment_pairs = []\n",
        "\n",
        "for file in tqdm.tqdm(sliced_filelist):\n",
        "    filename = os.path.basename(file)\n",
        "    name_without_ext = filename.rsplit('.', maxsplit=1)[0]\n",
        "    annotation = os.path.join(sliced_path, f'{name_without_ext}.txt')\n",
        "    if not os.path.exists(annotation):\n",
        "        print(f'No annotation found for \\'{filename}\\'!')\n",
        "        check_failed = True\n",
        "    with open(annotation, 'r', encoding='utf8') as f:\n",
        "        syllables = f.read().strip().split()\n",
        "    if not syllables:\n",
        "        print(f'Annotation file \\'{annotation}\\' is empty!')\n",
        "        check_failed = True\n",
        "    else:\n",
        "        oov = []\n",
        "        for s in syllables:\n",
        "            if s not in dictionary:\n",
        "                oov.append(s)\n",
        "            else:\n",
        "                for ph in dictionary[s]:\n",
        "                    phoneme_map[ph] += 1\n",
        "                covered.update(dictionary[s])\n",
        "        if oov:\n",
        "            print(f'Syllable(s) {oov} not allowed in annotation file \\'{annotation}\\'')\n",
        "            check_failed = True"
      ]
    },
    {
      "cell_type": "markdown",
      "metadata": {
        "id": "F4AMQtOAeBrZ"
      },
      "source": [
        "### 05 保存短音频和对应转写到谷歌云盘\n",
        "#### 注意保存文件名不要与已有文件名相同 否则可能提示覆盖谷歌云盘的文件\n",
        "#### 这里的tar后缀是因为云服务器是linux系统 但是不影响在window系统解压"
      ]
    },
    {
      "cell_type": "code",
      "execution_count": null,
      "metadata": {
        "id": "JQeP-Gf1au1C",
        "vscode": {
          "languageId": "python"
        }
      },
      "outputs": [],
      "source": [
        "import os, tarfile\n",
        "import os\n",
        "from google.colab import files\n",
        "save_as = 'mfa_prepare.tar'#@param {type:\"string\"}\n",
        "def make_targz_one_by_one(output_filename, source_dir):\n",
        "  tar = tarfile.open(output_filename,\"w\")\n",
        "  for root,dir_name,files_list in os.walk(source_dir):\n",
        "    for file in files_list:\n",
        "      pathfile = os.path.join(root, file)\n",
        "      tar.add(pathfile)\n",
        "  tar.close()\n",
        " \n",
        "  # files.download(output_filename)\n",
        "\n",
        "make_targz_one_by_one(save_as, '/content/PPASR/sliced_wav')\n",
        "savename = \"/content/PPASR/\" + save_as\n",
        "!cp -i $savename /content/drive/MyDrive"
      ]
    }
  ],
  "metadata": {
    "accelerator": "GPU",
    "colab": {
      "name": "欢迎使用 Colaboratory",
      "provenance": [],
      "toc_visible": true
    },
    "gpuClass": "standard",
    "kernelspec": {
      "display_name": "Python 3",
      "name": "python3"
    }
  },
  "nbformat": 4,
  "nbformat_minor": 0
}